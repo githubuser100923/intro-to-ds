{
 "cells": [
  {
   "cell_type": "code",
   "execution_count": null,
   "id": "4e59ee1e-b3fa-40d1-bef0-c04200268abb",
   "metadata": {},
   "outputs": [],
   "source": [
    "import pandas as pd\n",
    "import plotly.express as px\n",
    "import plotly.graph_objects as go\n",
    "import numpy as np\n",
    "import geopandas as gpd\n",
    "from shapely.geometry import Point\n",
    "import matplotlib.pyplot as plt\n",
    "import seaborn as sns"
   ]
  },
  {
   "cell_type": "code",
   "execution_count": null,
   "id": "2fe0dc5d-3aed-4448-a0dd-89f6afba34a8",
   "metadata": {},
   "outputs": [],
   "source": [
    "df = pd.read_csv(\"data-2014-2021-wo-missing.csv\")"
   ]
  },
  {
   "cell_type": "code",
   "execution_count": null,
   "id": "f7c6c901-4954-4834-a6e5-6a1ebba24e63",
   "metadata": {},
   "outputs": [],
   "source": [
    "print(\"Columns in dataset:\", df.columns)"
   ]
  },
  {
   "cell_type": "code",
   "execution_count": null,
   "id": "c5eb2825-7eea-426f-8047-ec2b82430fb5",
   "metadata": {},
   "outputs": [],
   "source": [
    "df['vehicle_mass'] = pd.to_numeric(df['vehicle_mass'], errors='coerce')"
   ]
  },
  {
   "cell_type": "code",
   "execution_count": null,
   "id": "0d0a3be3-0b75-4ef6-a1d0-713573e1d65b",
   "metadata": {},
   "outputs": [],
   "source": [
    "bins = [0, 2000, 5000, 20000, 1000000]\n",
    "labels = [\"Light (<2t)\", \"Medium Light (2–5t)\", \"Medium Heavy (5-20t)\", \"Heavy (>20t)\"]\n",
    "df['vehicle_mass_cat'] = pd.cut(df['vehicle_mass'], bins=bins, labels=labels)"
   ]
  },
  {
   "cell_type": "code",
   "execution_count": null,
   "id": "c15f6dc3-77cc-4856-a763-9946f7a35680",
   "metadata": {},
   "outputs": [],
   "source": [
    "df"
   ]
  },
  {
   "cell_type": "code",
   "execution_count": null,
   "id": "1766cc7a",
   "metadata": {},
   "outputs": [],
   "source": [
    "plt.figure(figsize=(8,5))\n",
    "df['day_of_week'].value_counts().sort_index().plot(kind=\"bar\", color=\"skyblue\")\n",
    "plt.title(\"Accidents by Day of Week\")\n",
    "plt.xlabel(\"Day of Week\")\n",
    "plt.ylabel(\"Accident Count\")\n",
    "plt.show()"
   ]
  },
  {
   "cell_type": "code",
   "execution_count": null,
   "id": "6a79f432",
   "metadata": {},
   "outputs": [],
   "source": [
    "plt.figure(figsize=(6,5))\n",
    "df['Seriousness'].value_counts().plot(kind=\"bar\", color=\"orange\")\n",
    "plt.title(\"Distribution of Accident Seriousness\")\n",
    "plt.xlabel(\"Seriousness\")\n",
    "plt.ylabel(\"Count\")\n",
    "plt.show()\n",
    "\n",
    "plt.figure(figsize=(10,6))\n",
    "sns.countplot(data=df, x=\"year\", hue=\"Seriousness\")\n",
    "plt.title(\"Accident Seriousness by Year\")\n",
    "plt.xticks(rotation=45)\n",
    "plt.show()\n"
   ]
  },
  {
   "cell_type": "code",
   "execution_count": null,
   "id": "eb9bfea6-96b5-4b8c-8bfa-b968153b8d07",
   "metadata": {},
   "outputs": [],
   "source": [
    "fig1 = px.pie(\n",
    "    df, \n",
    "    values = \"id\",\n",
    "    names = \"vehicle_mass_cat\",\n",
    "    title=\"Distribution of Vehicle Mass in Accidents\",\n",
    "    labels={\"vehicle_mass_cat\": \"Vehicle Mass Category\"}\n",
    ")\n",
    "fig1.show()"
   ]
  },
  {
   "cell_type": "code",
   "execution_count": null,
   "id": "03197001-0ba9-4538-ba1f-d04afc66d50f",
   "metadata": {},
   "outputs": [],
   "source": [
    "fig2 = px.violin(\n",
    "    df, \n",
    "    x=\"Seriousness\", \n",
    "    y=\"vehicle_mass\", \n",
    "    title=\"Vehicle Mass by Accident Seriousness\",\n",
    ")\n",
    "fig2.show()"
   ]
  },
  {
   "cell_type": "code",
   "execution_count": null,
   "id": "c62bb511-d095-4229-b94f-151eff5bdd73",
   "metadata": {},
   "outputs": [],
   "source": [
    "import matplotlib.pyplot as plt\n",
    "import seaborn as sns\n",
    "\n",
    "\n",
    "df_bar = df.dropna(subset=[\"vehicle_mass_cat\"]).copy()\n",
    "df_bar[\"vehicle_mass_cat\"] = df_bar[\"vehicle_mass_cat\"].astype(str)\n",
    "\n",
    "crosstab = pd.crosstab(df_bar[\"day_of_week\"], df_bar[\"vehicle_mass_cat\"])\n",
    "\n",
    "crosstab.plot(kind=\"bar\", stacked=True, figsize=(10,6), colormap=\"tab20\")\n",
    "plt.title(\"Accidents by Day of Week and Vehicle Mass Category (Stacked)\")\n",
    "plt.xlabel(\"Day of Week\")\n",
    "plt.ylabel(\"Number of Accidents\")\n",
    "plt.legend(title=\"Vehicle Mass Category\")\n",
    "plt.tight_layout()\n",
    "plt.show()"
   ]
  },
  {
   "cell_type": "code",
   "execution_count": null,
   "id": "17e30580-4339-49db-929f-9030f05cd82a",
   "metadata": {},
   "outputs": [],
   "source": [
    "accidents_by_year = df.groupby(\"year\").size().reset_index(name=\"accident_count\")\n",
    "fig4 = px.line(\n",
    "    accidents_by_year,\n",
    "    x=\"year\",\n",
    "    y=\"accident_count\",\n",
    "    title=\"Yearly Accident Trends\"\n",
    ")\n",
    "fig4.show()"
   ]
  },
  {
   "cell_type": "code",
   "execution_count": null,
   "id": "19512663-d64b-4dce-882d-57e2b428c656",
   "metadata": {},
   "outputs": [],
   "source": [
    "# Read world shapefile and select Finland\n",
    "world = gpd.read_file('ne_10m_admin_0_countries/ne_10m_admin_0_countries.shp')\n",
    "finland = world[world['ADMIN'] == 'Finland']\n",
    "\n",
    "# Set target CRS (ETRS89 / TM35FIN, EPSG:3067)\n",
    "target_crs = 'EPSG:3067'\n",
    "finland = finland.to_crs(target_crs)\n",
    "\n",
    "# Prepare data: drop missing vehicle_mass_cat, lat, lon\n",
    "df_map = df.dropna(subset=[\"vehicle_mass_cat\", \"lat\", \"lon\"]).copy()\n",
    "df_map[\"vehicle_mass_cat\"] = df_map[\"vehicle_mass_cat\"].astype(str)\n",
    "\n",
    "# Create GeoDataFrame for accident points\n",
    "geometry = [Point(xy) for xy in zip(df_map['lon'], df_map['lat'])]\n",
    "gdf = gpd.GeoDataFrame(df_map, geometry=geometry, crs='EPSG:4326')\n",
    "gdf = gdf.to_crs(target_crs)\n",
    "\n",
    "# Assign a color to each vehicle_mass_cat\n",
    "categories = gdf[\"vehicle_mass_cat\"].unique()\n",
    "colors = plt.cm.tab20(np.linspace(0, 1, len(categories)))\n",
    "color_dict = dict(zip(categories, colors))\n",
    "\n",
    "# Plot\n",
    "fig, ax = plt.subplots(1, 1, figsize=(30, 30))\n",
    "finland.plot(ax=ax, color='lightgray', edgecolor='black')\n",
    "\n",
    "for cat in categories:\n",
    "    subset = gdf[gdf[\"vehicle_mass_cat\"] == cat]\n",
    "    subset.plot(ax=ax, marker='o', color=color_dict[cat], markersize=10, alpha=0.5, label=cat, zorder=5)\n",
    "\n",
    "ax.set_title(\"Coordinates on a Map of Finland by Vehicle Mass Category\")\n",
    "ax.set_xlabel(\"Easting (m)\")\n",
    "ax.set_ylabel(\"Northing (m)\")\n",
    "ax.legend(title=\"Vehicle Mass Category\")\n",
    "plt.show()"
   ]
  },
  {
   "cell_type": "code",
   "execution_count": null,
   "id": "b07b0245-ed9d-4ce9-9c05-9ad249c5c758",
   "metadata": {},
   "outputs": [],
   "source": [
    "world = gpd.read_file('ne_10m_admin_0_countries/ne_10m_admin_0_countries.shp')\n",
    "finland = world[world['ADMIN'] == 'Finland']\n",
    "\n",
    "target_crs = 'EPSG:3067'\n",
    "\n",
    "finland = finland.to_crs(target_crs)\n",
    "\n",
    "geometry = [Point(xy) for xy in zip(df['lon'], df['lat'])]\n",
    "gdf = gpd.GeoDataFrame(df, geometry=geometry, crs='EPSG:4326')\n",
    "\n",
    "gdf = gdf.to_crs(target_crs)\n",
    "\n",
    "fig, ax = plt.subplots(1, 1, figsize=(30, 30))\n",
    "\n",
    "finland.plot(ax=ax, color='lightgray', edgecolor='black')\n",
    "\n",
    "gdf.plot(ax=ax, marker='x', color='blue', markersize=2, zorder=5, alpha=0.5)\n",
    "\n",
    "for x, y in zip(gdf.geometry.x, gdf.geometry.y):\n",
    "    ax.text(x, y, \"\", fontsize=12, ha='right', va='top', fontweight='bold')\n",
    "\n",
    "ax.set_title(\"Coordinates on a Map of Finland\")\n",
    "ax.set_xlabel(\"Easting (m)\")\n",
    "ax.set_ylabel(\"Northing (m)\")\n",
    "\n",
    "plt.show()"
   ]
  }
 ],
 "metadata": {
  "kernelspec": {
   "display_name": "base",
   "language": "python",
   "name": "python3"
  },
  "language_info": {
   "codemirror_mode": {
    "name": "ipython",
    "version": 3
   },
   "file_extension": ".py",
   "mimetype": "text/x-python",
   "name": "python",
   "nbconvert_exporter": "python",
   "pygments_lexer": "ipython3",
   "version": "3.13.5"
  }
 },
 "nbformat": 4,
 "nbformat_minor": 5
}
