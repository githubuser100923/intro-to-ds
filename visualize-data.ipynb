{
 "cells": [
  {
   "cell_type": "code",
   "execution_count": null,
   "id": "8ac752f1-9237-4895-beb1-5dd62835fcd4",
   "metadata": {},
   "outputs": [],
   "source": []
  }
 ],
 "metadata": {
  "kernelspec": {
   "display_name": "",
   "name": ""
  },
  "language_info": {
   "name": ""
  }
 },
 "nbformat": 4,
 "nbformat_minor": 5
}
