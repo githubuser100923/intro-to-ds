{
 "cells": [
  {
   "cell_type": "code",
   "execution_count": 1,
   "id": "c83a67ca-62b2-452d-9c34-7e70b13ecb61",
   "metadata": {},
   "outputs": [],
   "source": [
    "import pandas as pd"
   ]
  },
  {
   "cell_type": "code",
   "execution_count": 13,
   "id": "f718535e-eacc-425b-816e-a12b2c11217c",
   "metadata": {},
   "outputs": [],
   "source": [
    "df = pd.read_csv(\"./data-2014-2021-fixed.csv\")\n",
    "df = df.drop(columns='Unnamed: 0')"
   ]
  },
  {
   "cell_type": "code",
   "execution_count": 20,
   "id": "d1937620-1b74-4cd9-a8c8-72418d21e415",
   "metadata": {},
   "outputs": [
    {
     "name": "stdout",
     "output_type": "stream",
     "text": [
      "Basic Information:\n",
      "<class 'pandas.core.frame.DataFrame'>\n",
      "RangeIndex: 247330 entries, 0 to 247329\n",
      "Data columns (total 8 columns):\n",
      " #   Column        Non-Null Count   Dtype  \n",
      "---  ------        --------------   -----  \n",
      " 0   id            247330 non-null  int64  \n",
      " 1   year          247330 non-null  int64  \n",
      " 2   month         247330 non-null  int64  \n",
      " 3   day_of_week   247330 non-null  object \n",
      " 4   lon           247222 non-null  float64\n",
      " 5   lat           247222 non-null  float64\n",
      " 6   vehicle_mass  189952 non-null  float64\n",
      " 7   Seriousness   247330 non-null  object \n",
      "dtypes: float64(3), int64(3), object(2)\n",
      "memory usage: 15.1+ MB\n"
     ]
    }
   ],
   "source": [
    "print(\"Basic Information:\")\n",
    "df.info()"
   ]
  },
  {
   "cell_type": "code",
   "execution_count": 19,
   "id": "10653dcf-a244-4f20-8eca-d1162f5c9c22",
   "metadata": {},
   "outputs": [
    {
     "name": "stdout",
     "output_type": "stream",
     "text": [
      "\n",
      "First 5 Rows:\n"
     ]
    },
    {
     "data": {
      "text/html": [
       "<div>\n",
       "<style scoped>\n",
       "    .dataframe tbody tr th:only-of-type {\n",
       "        vertical-align: middle;\n",
       "    }\n",
       "\n",
       "    .dataframe tbody tr th {\n",
       "        vertical-align: top;\n",
       "    }\n",
       "\n",
       "    .dataframe thead th {\n",
       "        text-align: right;\n",
       "    }\n",
       "</style>\n",
       "<table border=\"1\" class=\"dataframe\">\n",
       "  <thead>\n",
       "    <tr style=\"text-align: right;\">\n",
       "      <th></th>\n",
       "      <th>id</th>\n",
       "      <th>year</th>\n",
       "      <th>month</th>\n",
       "      <th>day_of_week</th>\n",
       "      <th>lon</th>\n",
       "      <th>lat</th>\n",
       "      <th>vehicle_mass</th>\n",
       "      <th>Seriousness</th>\n",
       "    </tr>\n",
       "  </thead>\n",
       "  <tbody>\n",
       "    <tr>\n",
       "      <th>0</th>\n",
       "      <td>6425463</td>\n",
       "      <td>2014</td>\n",
       "      <td>7</td>\n",
       "      <td>Sunnuntai</td>\n",
       "      <td>22.3570</td>\n",
       "      <td>60.4424</td>\n",
       "      <td>1165.0</td>\n",
       "      <td>Ei henkilövahinkoja</td>\n",
       "    </tr>\n",
       "    <tr>\n",
       "      <th>1</th>\n",
       "      <td>6425463</td>\n",
       "      <td>2014</td>\n",
       "      <td>7</td>\n",
       "      <td>Sunnuntai</td>\n",
       "      <td>22.3570</td>\n",
       "      <td>60.4424</td>\n",
       "      <td>NaN</td>\n",
       "      <td>Ei henkilövahinkoja</td>\n",
       "    </tr>\n",
       "    <tr>\n",
       "      <th>2</th>\n",
       "      <td>6425467</td>\n",
       "      <td>2014</td>\n",
       "      <td>12</td>\n",
       "      <td>Torstai</td>\n",
       "      <td>24.4156</td>\n",
       "      <td>60.9893</td>\n",
       "      <td>NaN</td>\n",
       "      <td>Ei henkilövahinkoja</td>\n",
       "    </tr>\n",
       "    <tr>\n",
       "      <th>3</th>\n",
       "      <td>6425467</td>\n",
       "      <td>2014</td>\n",
       "      <td>12</td>\n",
       "      <td>Torstai</td>\n",
       "      <td>24.4156</td>\n",
       "      <td>60.9893</td>\n",
       "      <td>1520.0</td>\n",
       "      <td>Ei henkilövahinkoja</td>\n",
       "    </tr>\n",
       "    <tr>\n",
       "      <th>4</th>\n",
       "      <td>6425469</td>\n",
       "      <td>2014</td>\n",
       "      <td>5</td>\n",
       "      <td>Perjantai</td>\n",
       "      <td>NaN</td>\n",
       "      <td>NaN</td>\n",
       "      <td>NaN</td>\n",
       "      <td>Ei henkilövahinkoja</td>\n",
       "    </tr>\n",
       "  </tbody>\n",
       "</table>\n",
       "</div>"
      ],
      "text/plain": [
       "        id  year  month day_of_week      lon      lat  vehicle_mass  \\\n",
       "0  6425463  2014      7   Sunnuntai  22.3570  60.4424        1165.0   \n",
       "1  6425463  2014      7   Sunnuntai  22.3570  60.4424           NaN   \n",
       "2  6425467  2014     12     Torstai  24.4156  60.9893           NaN   \n",
       "3  6425467  2014     12     Torstai  24.4156  60.9893        1520.0   \n",
       "4  6425469  2014      5   Perjantai      NaN      NaN           NaN   \n",
       "\n",
       "           Seriousness  \n",
       "0  Ei henkilövahinkoja  \n",
       "1  Ei henkilövahinkoja  \n",
       "2  Ei henkilövahinkoja  \n",
       "3  Ei henkilövahinkoja  \n",
       "4  Ei henkilövahinkoja  "
      ]
     },
     "execution_count": 19,
     "metadata": {},
     "output_type": "execute_result"
    }
   ],
   "source": [
    "print(\"\\nFirst 5 Rows:\")\n",
    "df.head()"
   ]
  },
  {
   "cell_type": "code",
   "execution_count": 21,
   "id": "9141a83d-5ada-4dc9-9288-cce39d751e5a",
   "metadata": {},
   "outputs": [
    {
     "name": "stdout",
     "output_type": "stream",
     "text": [
      "\n",
      "Descriptive Statistics:\n"
     ]
    },
    {
     "data": {
      "text/html": [
       "<div>\n",
       "<style scoped>\n",
       "    .dataframe tbody tr th:only-of-type {\n",
       "        vertical-align: middle;\n",
       "    }\n",
       "\n",
       "    .dataframe tbody tr th {\n",
       "        vertical-align: top;\n",
       "    }\n",
       "\n",
       "    .dataframe thead th {\n",
       "        text-align: right;\n",
       "    }\n",
       "</style>\n",
       "<table border=\"1\" class=\"dataframe\">\n",
       "  <thead>\n",
       "    <tr style=\"text-align: right;\">\n",
       "      <th></th>\n",
       "      <th>id</th>\n",
       "      <th>year</th>\n",
       "      <th>month</th>\n",
       "      <th>lon</th>\n",
       "      <th>lat</th>\n",
       "      <th>vehicle_mass</th>\n",
       "    </tr>\n",
       "  </thead>\n",
       "  <tbody>\n",
       "    <tr>\n",
       "      <th>count</th>\n",
       "      <td>2.473300e+05</td>\n",
       "      <td>247330.000000</td>\n",
       "      <td>247330.000000</td>\n",
       "      <td>247222.000000</td>\n",
       "      <td>247222.000000</td>\n",
       "      <td>189952.000000</td>\n",
       "    </tr>\n",
       "    <tr>\n",
       "      <th>mean</th>\n",
       "      <td>8.051764e+06</td>\n",
       "      <td>2016.721481</td>\n",
       "      <td>6.720438</td>\n",
       "      <td>24.713982</td>\n",
       "      <td>61.746097</td>\n",
       "      <td>2184.882539</td>\n",
       "    </tr>\n",
       "    <tr>\n",
       "      <th>std</th>\n",
       "      <td>1.253157e+06</td>\n",
       "      <td>2.214306</td>\n",
       "      <td>3.512476</td>\n",
       "      <td>1.977760</td>\n",
       "      <td>1.673855</td>\n",
       "      <td>2994.114601</td>\n",
       "    </tr>\n",
       "    <tr>\n",
       "      <th>min</th>\n",
       "      <td>6.425462e+06</td>\n",
       "      <td>2014.000000</td>\n",
       "      <td>1.000000</td>\n",
       "      <td>19.083300</td>\n",
       "      <td>59.460000</td>\n",
       "      <td>0.000000</td>\n",
       "    </tr>\n",
       "    <tr>\n",
       "      <th>25%</th>\n",
       "      <td>6.783361e+06</td>\n",
       "      <td>2015.000000</td>\n",
       "      <td>4.000000</td>\n",
       "      <td>23.143400</td>\n",
       "      <td>60.425100</td>\n",
       "      <td>1230.000000</td>\n",
       "    </tr>\n",
       "    <tr>\n",
       "      <th>50%</th>\n",
       "      <td>7.910968e+06</td>\n",
       "      <td>2016.000000</td>\n",
       "      <td>7.000000</td>\n",
       "      <td>24.892500</td>\n",
       "      <td>61.183300</td>\n",
       "      <td>1426.000000</td>\n",
       "    </tr>\n",
       "    <tr>\n",
       "      <th>75%</th>\n",
       "      <td>9.299658e+06</td>\n",
       "      <td>2018.000000</td>\n",
       "      <td>10.000000</td>\n",
       "      <td>25.673400</td>\n",
       "      <td>62.661800</td>\n",
       "      <td>1692.000000</td>\n",
       "    </tr>\n",
       "    <tr>\n",
       "      <th>max</th>\n",
       "      <td>1.022082e+07</td>\n",
       "      <td>2021.000000</td>\n",
       "      <td>12.000000</td>\n",
       "      <td>31.588300</td>\n",
       "      <td>70.092500</td>\n",
       "      <td>96000.000000</td>\n",
       "    </tr>\n",
       "  </tbody>\n",
       "</table>\n",
       "</div>"
      ],
      "text/plain": [
       "                 id           year          month            lon  \\\n",
       "count  2.473300e+05  247330.000000  247330.000000  247222.000000   \n",
       "mean   8.051764e+06    2016.721481       6.720438      24.713982   \n",
       "std    1.253157e+06       2.214306       3.512476       1.977760   \n",
       "min    6.425462e+06    2014.000000       1.000000      19.083300   \n",
       "25%    6.783361e+06    2015.000000       4.000000      23.143400   \n",
       "50%    7.910968e+06    2016.000000       7.000000      24.892500   \n",
       "75%    9.299658e+06    2018.000000      10.000000      25.673400   \n",
       "max    1.022082e+07    2021.000000      12.000000      31.588300   \n",
       "\n",
       "                 lat   vehicle_mass  \n",
       "count  247222.000000  189952.000000  \n",
       "mean       61.746097    2184.882539  \n",
       "std         1.673855    2994.114601  \n",
       "min        59.460000       0.000000  \n",
       "25%        60.425100    1230.000000  \n",
       "50%        61.183300    1426.000000  \n",
       "75%        62.661800    1692.000000  \n",
       "max        70.092500   96000.000000  "
      ]
     },
     "execution_count": 21,
     "metadata": {},
     "output_type": "execute_result"
    }
   ],
   "source": [
    "print(\"\\nDescriptive Statistics:\")\n",
    "df.describe()"
   ]
  },
  {
   "cell_type": "code",
   "execution_count": 22,
   "id": "f6645e65-5737-408e-9117-def1fdc288d0",
   "metadata": {},
   "outputs": [
    {
     "name": "stdout",
     "output_type": "stream",
     "text": [
      "\n",
      "Data Types:\n"
     ]
    },
    {
     "data": {
      "text/plain": [
       "id                int64\n",
       "year              int64\n",
       "month             int64\n",
       "day_of_week      object\n",
       "lon             float64\n",
       "lat             float64\n",
       "vehicle_mass    float64\n",
       "Seriousness      object\n",
       "dtype: object"
      ]
     },
     "execution_count": 22,
     "metadata": {},
     "output_type": "execute_result"
    }
   ],
   "source": [
    "print(\"\\nData Types:\")\n",
    "df.dtypes"
   ]
  },
  {
   "cell_type": "code",
   "execution_count": 23,
   "id": "1ed8f8fe-937f-4ae7-8255-15591065725a",
   "metadata": {},
   "outputs": [
    {
     "name": "stdout",
     "output_type": "stream",
     "text": [
      "\n",
      "Missing Values:\n"
     ]
    },
    {
     "data": {
      "text/plain": [
       "id                  0\n",
       "year                0\n",
       "month               0\n",
       "day_of_week         0\n",
       "lon               108\n",
       "lat               108\n",
       "vehicle_mass    57378\n",
       "Seriousness         0\n",
       "dtype: int64"
      ]
     },
     "execution_count": 23,
     "metadata": {},
     "output_type": "execute_result"
    }
   ],
   "source": [
    "print(\"\\nMissing Values:\")\n",
    "df.isnull().sum()"
   ]
  },
  {
   "cell_type": "code",
   "execution_count": 27,
   "id": "c60716d8-332b-4e80-a5e2-451b73d02ba1",
   "metadata": {},
   "outputs": [
    {
     "data": {
      "text/plain": [
       "Seriousness\n",
       "Ei henkilövahinkoja          147055\n",
       "Loukkaantumiseen johtanut     58991\n",
       "Ei henkilÃ¶vahinkoja          38301\n",
       "Kuolemaan johtanut             2983\n",
       "Name: count, dtype: int64"
      ]
     },
     "execution_count": 27,
     "metadata": {},
     "output_type": "execute_result"
    }
   ],
   "source": [
    "df['Seriousness'].value_counts()"
   ]
  },
  {
   "cell_type": "code",
   "execution_count": 28,
   "id": "b0b967ff-f047-49c9-a40c-a794fd597b5a",
   "metadata": {},
   "outputs": [
    {
     "data": {
      "text/plain": [
       "day_of_week\n",
       "Perjantai      42188\n",
       "Torstai        37399\n",
       "Keskiviikko    36603\n",
       "Tiistai        36467\n",
       "Maanantai      36432\n",
       "Lauantai       31424\n",
       "Sunnuntai      26697\n",
       "Ei arvoa         120\n",
       "Name: count, dtype: int64"
      ]
     },
     "execution_count": 28,
     "metadata": {},
     "output_type": "execute_result"
    }
   ],
   "source": [
    "df['day_of_week'].value_counts()"
   ]
  },
  {
   "cell_type": "code",
   "execution_count": 29,
   "id": "83625502-98c2-4e75-8109-cc2e5b0a032c",
   "metadata": {},
   "outputs": [
    {
     "data": {
      "text/plain": [
       "month\n",
       "11    23801\n",
       "1     23451\n",
       "12    22714\n",
       "9     22263\n",
       "10    21610\n",
       "8     21364\n",
       "5     20582\n",
       "6     20451\n",
       "7     20187\n",
       "2     18413\n",
       "3     16770\n",
       "4     15724\n",
       "Name: count, dtype: int64"
      ]
     },
     "execution_count": 29,
     "metadata": {},
     "output_type": "execute_result"
    }
   ],
   "source": [
    "df['month'].value_counts()"
   ]
  },
  {
   "cell_type": "code",
   "execution_count": 30,
   "id": "5ac9a6df-39da-4d66-a33b-ea57e8b8671d",
   "metadata": {},
   "outputs": [
    {
     "data": {
      "text/plain": [
       "year\n",
       "2014    49820\n",
       "2015    44096\n",
       "2016    34457\n",
       "2017    29999\n",
       "2018    27737\n",
       "2019    25585\n",
       "2020    18228\n",
       "2021    17408\n",
       "Name: count, dtype: int64"
      ]
     },
     "execution_count": 30,
     "metadata": {},
     "output_type": "execute_result"
    }
   ],
   "source": [
    "df['year'].value_counts()"
   ]
  },
  {
   "cell_type": "code",
   "execution_count": 32,
   "id": "73bae810-649c-49cb-948c-a9043fd33f8c",
   "metadata": {},
   "outputs": [],
   "source": [
    "df_dropped = df.dropna(subset=['lon', 'lat'], how='all')"
   ]
  },
  {
   "cell_type": "code",
   "execution_count": 33,
   "id": "cc9a3475-c852-4358-acaa-d73140de75d2",
   "metadata": {},
   "outputs": [
    {
     "data": {
      "text/plain": [
       "id                  0\n",
       "year                0\n",
       "month               0\n",
       "day_of_week         0\n",
       "lon                 0\n",
       "lat                 0\n",
       "vehicle_mass    57317\n",
       "Seriousness         0\n",
       "dtype: int64"
      ]
     },
     "execution_count": 33,
     "metadata": {},
     "output_type": "execute_result"
    }
   ],
   "source": [
    "df_dropped.isnull().sum()"
   ]
  },
  {
   "cell_type": "code",
   "execution_count": 35,
   "id": "f681518b-0988-44c2-90b7-f8724adbde84",
   "metadata": {},
   "outputs": [],
   "source": [
    "df_dropped = df_dropped[df_dropped['day_of_week'] != 'Ei arvoa']"
   ]
  },
  {
   "cell_type": "code",
   "execution_count": 38,
   "id": "8158eaf9-debc-4831-8d3d-da4c96fe6b56",
   "metadata": {},
   "outputs": [
    {
     "data": {
      "text/plain": [
       "((247330, 8), (247102, 8))"
      ]
     },
     "execution_count": 38,
     "metadata": {},
     "output_type": "execute_result"
    }
   ],
   "source": [
    "df.shape, df_dropped.shape"
   ]
  },
  {
   "cell_type": "code",
   "execution_count": 40,
   "id": "94e30fba-3211-4799-ae2d-20cd9b02a947",
   "metadata": {},
   "outputs": [],
   "source": [
    "df_dropped.to_csv(\"./data-2014-2021-wo-missing.csv\", index=False)"
   ]
  },
  {
   "cell_type": "code",
   "execution_count": null,
   "id": "9f833424-ba24-49d7-8b4a-a83b6844fb19",
   "metadata": {},
   "outputs": [],
   "source": []
  }
 ],
 "metadata": {
  "kernelspec": {
   "display_name": "Python 3 (ipykernel)",
   "language": "python",
   "name": "python3"
  },
  "language_info": {
   "codemirror_mode": {
    "name": "ipython",
    "version": 3
   },
   "file_extension": ".py",
   "mimetype": "text/x-python",
   "name": "python",
   "nbconvert_exporter": "python",
   "pygments_lexer": "ipython3",
   "version": "3.9.6"
  }
 },
 "nbformat": 4,
 "nbformat_minor": 5
}
